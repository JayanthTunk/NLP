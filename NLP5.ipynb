{
 "cells": [
  {
   "cell_type": "code",
   "execution_count": 1,
   "id": "0f429f0c",
   "metadata": {},
   "outputs": [],
   "source": [
    "import nltk \n",
    "from nltk import ne_chunk"
   ]
  },
  {
   "cell_type": "code",
   "execution_count": 2,
   "id": "bfefca7a",
   "metadata": {},
   "outputs": [
    {
     "name": "stderr",
     "output_type": "stream",
     "text": [
      "[nltk_data] Downloading package maxent_ne_chunker to\n",
      "[nltk_data]     /home/jay/nltk_data...\n",
      "[nltk_data]   Package maxent_ne_chunker is already up-to-date!\n",
      "[nltk_data] Downloading package words to /home/jay/nltk_data...\n",
      "[nltk_data]   Package words is already up-to-date!\n"
     ]
    },
    {
     "data": {
      "text/plain": [
       "True"
      ]
     },
     "execution_count": 2,
     "metadata": {},
     "output_type": "execute_result"
    }
   ],
   "source": [
    "nltk.download('maxent_ne_chunker')\n",
    "nltk.download('words')"
   ]
  },
  {
   "cell_type": "code",
   "execution_count": 3,
   "id": "efb7c7a1",
   "metadata": {},
   "outputs": [],
   "source": [
    "doc2=\"\"\"In 1950, Alan Turing published an article titled \"Computing Machinery and Intelligence\" which proposed what is now called the Turing test as a criterion of intelligence, though at the time that was not articulated as a problem separate from artificial intelligence. The proposed test includes a task that involves the automated interpretation and generation of natural language.\"\"\""
   ]
  },
  {
   "cell_type": "code",
   "execution_count": 4,
   "id": "4f69ea72",
   "metadata": {},
   "outputs": [
    {
     "name": "stdout",
     "output_type": "stream",
     "text": [
      "PoS tags: [('In', 'IN'), ('1950', 'CD'), (',', ','), ('Alan', 'NNP'), ('Turing', 'NNP'), ('published', 'VBD'), ('an', 'DT'), ('article', 'NN'), ('titled', 'VBN'), ('``', '``'), ('Computing', 'JJ'), ('Machinery', 'NN'), ('and', 'CC'), ('Intelligence', 'NNP'), (\"''\", \"''\"), ('which', 'WDT'), ('proposed', 'VBD'), ('what', 'WP'), ('is', 'VBZ'), ('now', 'RB'), ('called', 'VBN'), ('the', 'DT'), ('Turing', 'NNP'), ('test', 'NN'), ('as', 'IN'), ('a', 'DT'), ('criterion', 'NN'), ('of', 'IN'), ('intelligence', 'NN'), (',', ','), ('though', 'RB'), ('at', 'IN'), ('the', 'DT'), ('time', 'NN'), ('that', 'WDT'), ('was', 'VBD'), ('not', 'RB'), ('articulated', 'VBN'), ('as', 'IN'), ('a', 'DT'), ('problem', 'NN'), ('separate', 'NN'), ('from', 'IN'), ('artificial', 'JJ'), ('intelligence', 'NN'), ('.', '.'), ('The', 'DT'), ('proposed', 'JJ'), ('test', 'NN'), ('includes', 'VBZ'), ('a', 'DT'), ('task', 'NN'), ('that', 'WDT'), ('involves', 'VBZ'), ('the', 'DT'), ('automated', 'JJ'), ('interpretation', 'NN'), ('and', 'CC'), ('generation', 'NN'), ('of', 'IN'), ('natural', 'JJ'), ('language', 'NN'), ('.', '.')]\n",
      "(S\n",
      "  In/IN\n",
      "  1950/CD\n",
      "  ,/,\n",
      "  (PERSON Alan/NNP Turing/NNP)\n",
      "  published/VBD\n",
      "  an/DT\n",
      "  article/NN\n",
      "  titled/VBN\n",
      "  ``/``\n",
      "  Computing/JJ\n",
      "  (ORGANIZATION Machinery/NN)\n",
      "  and/CC\n",
      "  (ORGANIZATION Intelligence/NNP)\n",
      "  ''/''\n",
      "  which/WDT\n",
      "  proposed/VBD\n",
      "  what/WP\n",
      "  is/VBZ\n",
      "  now/RB\n",
      "  called/VBN\n",
      "  the/DT\n",
      "  (GPE Turing/NNP)\n",
      "  test/NN\n",
      "  as/IN\n",
      "  a/DT\n",
      "  criterion/NN\n",
      "  of/IN\n",
      "  intelligence/NN\n",
      "  ,/,\n",
      "  though/RB\n",
      "  at/IN\n",
      "  the/DT\n",
      "  time/NN\n",
      "  that/WDT\n",
      "  was/VBD\n",
      "  not/RB\n",
      "  articulated/VBN\n",
      "  as/IN\n",
      "  a/DT\n",
      "  problem/NN\n",
      "  separate/NN\n",
      "  from/IN\n",
      "  artificial/JJ\n",
      "  intelligence/NN\n",
      "  ./.\n",
      "  The/DT\n",
      "  proposed/JJ\n",
      "  test/NN\n",
      "  includes/VBZ\n",
      "  a/DT\n",
      "  task/NN\n",
      "  that/WDT\n",
      "  involves/VBZ\n",
      "  the/DT\n",
      "  automated/JJ\n",
      "  interpretation/NN\n",
      "  and/CC\n",
      "  generation/NN\n",
      "  of/IN\n",
      "  natural/JJ\n",
      "  language/NN\n",
      "  ./.)\n"
     ]
    }
   ],
   "source": [
    "from nltk.tokenize import word_tokenize\n",
    "from nltk import pos_tag\n",
    "doc_words = word_tokenize(doc2)\n",
    "pos_tokens=pos_tag(doc_words)\n",
    "print(\"PoS tags:\",pos_tokens)\n",
    "\"\"\"\n",
    "for chunk in ne_chunk(pos_tokens):\n",
    "        if hasattr(chunk, 'label'):\n",
    "          print(chunk.label(), ' '.join(c[0] for c in chunk))\n",
    "\"\"\"\n",
    "ck = ne_chunk(pos_tokens)\n",
    "print(ck)"
   ]
  }
 ],
 "metadata": {
  "kernelspec": {
   "display_name": "Python 3",
   "language": "python",
   "name": "python3"
  },
  "language_info": {
   "codemirror_mode": {
    "name": "ipython",
    "version": 3
   },
   "file_extension": ".py",
   "mimetype": "text/x-python",
   "name": "python",
   "nbconvert_exporter": "python",
   "pygments_lexer": "ipython3",
   "version": "3.6.9"
  }
 },
 "nbformat": 4,
 "nbformat_minor": 5
}
