{
 "cells": [
  {
   "cell_type": "code",
   "execution_count": 1,
   "id": "47ce20af",
   "metadata": {},
   "outputs": [
    {
     "name": "stderr",
     "output_type": "stream",
     "text": [
      "[nltk_data] Downloading package wordnet to /home/jay/nltk_data...\n",
      "[nltk_data]   Package wordnet is already up-to-date!\n"
     ]
    }
   ],
   "source": [
    "import nltk\n",
    "nltk.download('wordnet')\n",
    "from nltk.stem import PorterStemmer\n",
    "from nltk.tokenize import sent_tokenize, word_tokenize "
   ]
  },
  {
   "cell_type": "code",
   "execution_count": 2,
   "id": "cc46d223",
   "metadata": {},
   "outputs": [
    {
     "name": "stdout",
     "output_type": "stream",
     "text": [
      "['Natural', 'language', 'processing', '(', 'NLP', ')', 'is', 'an', 'interdisciplinary', 'subfield', 'of', 'linguistics', ',', 'computer', 'science', ',', 'and', 'artificial', 'intelligence', 'concerned', 'with', 'the', 'interactions', 'between', 'computers', 'and', 'human', 'language', ',', 'in', 'particular', 'how', 'to', 'program', 'computers', 'to', 'process', 'and', 'analyze', 'large', 'amounts', 'of', 'natural', 'language', 'data', '.']\n",
      "['Natural', 'language', 'processing', '(', 'NLP', ')', 'interdisciplinary', 'subfield', 'linguistics', ',', 'computer', 'science', ',', 'artificial', 'intelligence', 'concerned', 'interactions', 'computers', 'human', 'language', ',', 'particular', 'program', 'computers', 'process', 'analyze', 'large', 'amounts', 'natural', 'language', 'data', '.']\n"
     ]
    }
   ],
   "source": [
    "doc1=\"\"\"Natural language processing (NLP) is an interdisciplinary subfield of linguistics, computer science, and artificial intelligence concerned with the interactions between computers and human language, in particular how to program computers to process and analyze large amounts of natural language data.\"\"\"\n",
    "\n",
    "from nltk.corpus import stopwords\n",
    "stop_words = set(stopwords.words('english'))\n",
    "tokenized_words = word_tokenize(doc1)\n",
    "filtered_words = []\n",
    "for w in tokenized_words:\n",
    "    if w not in stop_words:\n",
    "        filtered_words.append(w)\n",
    "print(tokenized_words)\n",
    "print(filtered_words)"
   ]
  },
  {
   "cell_type": "code",
   "execution_count": 3,
   "id": "7f49d5d7",
   "metadata": {},
   "outputs": [
    {
     "name": "stdout",
     "output_type": "stream",
     "text": [
      "['Natural', 'language', 'processing', 'NLP', 'interdisciplinary', 'subfield', 'linguistics', 'computer', 'science', 'artificial', 'intelligence', 'concerned', 'interactions', 'computers', 'human', 'language', 'particular', 'program', 'computers', 'process', 'analyze', 'large', 'amounts', 'natural', 'language', 'data']\n"
     ]
    }
   ],
   "source": [
    "import string as st\n",
    "punctuations=list(st.punctuation)\n",
    "filtered_tokens=[]\n",
    "\n",
    "for i in filtered_words:\n",
    "    if i not in punctuations:\n",
    "        filtered_tokens.append(i)\n",
    "print(filtered_tokens)"
   ]
  },
  {
   "cell_type": "code",
   "execution_count": 4,
   "id": "0fbc757e",
   "metadata": {},
   "outputs": [
    {
     "name": "stdout",
     "output_type": "stream",
     "text": [
      "Filtered Tokens After Removing Punctuations: ['Natural', 'language', 'processing', 'NLP', 'interdisciplinary', 'subfield', 'linguistics', 'computer', 'science', 'artificial', 'intelligence', 'concerned', 'interactions', 'computers', 'human', 'language', 'particular', 'program', 'computers', 'process', 'analyze', 'large', 'amounts', 'natural', 'language', 'data']\n",
      "Stemmed Tokens: ['natur', 'languag', 'process', 'nlp', 'interdisciplinari', 'subfield', 'linguist', 'comput', 'scienc', 'artifici', 'intellig', 'concern', 'interact', 'comput', 'human', 'languag', 'particular', 'program', 'comput', 'process', 'analyz', 'larg', 'amount', 'natur', 'languag', 'data']\n"
     ]
    }
   ],
   "source": [
    "ps = PorterStemmer()\n",
    "stemmed_words=[]\n",
    "\n",
    "for w in filtered_tokens:     \n",
    "     stemmed_words.append(ps.stem(w))\n",
    "\n",
    "print(\"Filtered Tokens After Removing Punctuations:\",filtered_tokens)\n",
    "print(\"Stemmed Tokens:\",stemmed_words)"
   ]
  },
  {
   "cell_type": "code",
   "execution_count": 5,
   "id": "9b27f548",
   "metadata": {},
   "outputs": [],
   "source": [
    "from nltk.stem.wordnet import WordNetLemmatizer\n",
    "from nltk.stem.porter import PorterStemmer"
   ]
  },
  {
   "cell_type": "code",
   "execution_count": 6,
   "id": "00732964",
   "metadata": {},
   "outputs": [
    {
     "name": "stdout",
     "output_type": "stream",
     "text": [
      "Filtered Tokens After Removing Punctuations: ['Natural', 'language', 'processing', 'NLP', 'interdisciplinary', 'subfield', 'linguistics', 'computer', 'science', 'artificial', 'intelligence', 'concerned', 'interactions', 'computers', 'human', 'language', 'particular', 'program', 'computers', 'process', 'analyze', 'large', 'amounts', 'natural', 'language', 'data']\n",
      "Stemmed Tokens: ['natur', 'languag', 'process', 'nlp', 'interdisciplinari', 'subfield', 'linguist', 'comput', 'scienc', 'artifici', 'intellig', 'concern', 'interact', 'comput', 'human', 'languag', 'particular', 'program', 'comput', 'process', 'analyz', 'larg', 'amount', 'natur', 'languag', 'data']\n",
      "Lemmatized Word: ['Natural', 'language', 'process', 'NLP', 'interdisciplinary', 'subfield', 'linguistics', 'computer', 'science', 'artificial', 'intelligence', 'concern', 'interactions', 'computers', 'human', 'language', 'particular', 'program', 'computers', 'process', 'analyze', 'large', 'amount', 'natural', 'language', 'data']\n"
     ]
    }
   ],
   "source": [
    "lem = WordNetLemmatizer()\n",
    "lemm_words=[]\n",
    "for w in filtered_tokens:\n",
    "  lemm_words.append(lem.lemmatize(w,'v'))\n",
    "\n",
    "print(\"Filtered Tokens After Removing Punctuations:\",filtered_tokens)\n",
    "print(\"Stemmed Tokens:\",stemmed_words)\n",
    "print(\"Lemmatized Word:\",lemm_words)"
   ]
  }
 ],
 "metadata": {
  "kernelspec": {
   "display_name": "Python 3",
   "language": "python",
   "name": "python3"
  },
  "language_info": {
   "codemirror_mode": {
    "name": "ipython",
    "version": 3
   },
   "file_extension": ".py",
   "mimetype": "text/x-python",
   "name": "python",
   "nbconvert_exporter": "python",
   "pygments_lexer": "ipython3",
   "version": "3.6.9"
  }
 },
 "nbformat": 4,
 "nbformat_minor": 5
}
